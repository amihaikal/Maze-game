{
  "nbformat": 4,
  "nbformat_minor": 0,
  "metadata": {
    "colab": {
      "provenance": [],
      "authorship_tag": "ABX9TyN4Sw1QRIjphdivTqsFVg3R",
      "include_colab_link": true
    },
    "kernelspec": {
      "name": "python3",
      "display_name": "Python 3"
    },
    "language_info": {
      "name": "python"
    }
  },
  "cells": [
    {
      "cell_type": "markdown",
      "metadata": {
        "id": "view-in-github",
        "colab_type": "text"
      },
      "source": [
        "<a href=\"https://colab.research.google.com/github/amihaikal/Maze-game/blob/main/RPG_Game_(1st_edition).ipynb\" target=\"_parent\"><img src=\"https://colab.research.google.com/assets/colab-badge.svg\" alt=\"Open In Colab\"/></a>"
      ]
    },
    {
      "cell_type": "code",
      "source": [
        "def showInstructions():\n",
        "  #print a main menu and the commands\n",
        "  print('''\n",
        "RPG Game\n",
        "\n",
        "Get to the Garden with key and potion\n",
        "========\n",
        "Commands:\n",
        "  go [direction]\n",
        "  get [item]\n",
        "''')"
      ],
      "metadata": {
        "id": "gmDGxeiQmYER"
      },
      "execution_count": 7,
      "outputs": []
    },
    {
      "cell_type": "code",
      "source": [
        "def showStatus():\n",
        "  #print the player's current status\n",
        "  print('---------------------------')\n",
        "  print('You are in the ' + currentRoom)\n",
        "  #print the current inventory\n",
        "  print('Inventory : ' + str(inventory))\n",
        "  #print an item if there is one\n",
        "  if \"item\" in rooms[currentRoom]:\n",
        "    print('You see a ' + rooms[currentRoom]['item'])\n",
        "  print(\"---------------------------\")"
      ],
      "metadata": {
        "id": "bK83pyjroodn"
      },
      "execution_count": 8,
      "outputs": []
    },
    {
      "cell_type": "code",
      "source": [
        "#an inventory, which is initially empty\n",
        "inventory = []\n",
        "\n",
        "#a dictionary linking a room to other rooms\n",
        "rooms = {\n",
        "\n",
        "            'Hall' : {\n",
        "                  'south' : 'Kitchen',\n",
        "                  'east' : 'Dining Room',\n",
        "                  'item': 'key'\n",
        "                },\n",
        "\n",
        "            'Kitchen' : {\n",
        "                  'north' : 'Hall',\n",
        "                  'item': 'monster'\n",
        "                },\n",
        "            'Dining Room': {\n",
        "                  'west':'Hall',\n",
        "                  'south': 'Garden',\n",
        "                  'item': 'potion'\n",
        "                },\n",
        "            'Garden':{\n",
        "                'north':'Dining Room'\n",
        "            }\n",
        "         }"
      ],
      "metadata": {
        "id": "Mtopos6oosNi"
      },
      "execution_count": 9,
      "outputs": []
    },
    {
      "cell_type": "code",
      "source": [
        "#start the player in the Hall\n",
        "currentRoom = 'Hall'"
      ],
      "metadata": {
        "id": "5JF4ptr7ovlL"
      },
      "execution_count": 10,
      "outputs": []
    },
    {
      "cell_type": "code",
      "source": [
        "showInstructions()\n",
        "\n",
        "#loop forever\n",
        "while True:\n",
        "\n",
        "  showStatus()\n",
        "\n",
        "  #get the player's next 'move'\n",
        "  #.split() breaks it up into an list array\n",
        "  #eg typing 'go east' would give the list:\n",
        "  #['go','east']\n",
        "  move = ''\n",
        "  while move == '':\n",
        "    move = input('>')\n",
        "\n",
        "  move = move.lower().split()\n",
        " #if they type 'go' first\n",
        "  if move[0] == 'go':\n",
        "    #check that they are allowed wherever they want to go\n",
        "    if move[1] in rooms[currentRoom]:\n",
        "      #set the current room to the new room\n",
        "      currentRoom = rooms[currentRoom][move[1]]\n",
        "    #there is no door (link) to the new room\n",
        "    else:\n",
        "        print('You can\\'t go that way!')\n",
        " #if they type 'get' first\n",
        "  if move[0] == 'get' :\n",
        "    #if the room contains an item, and the item is the one they want to get\n",
        "    if \"item\" in rooms[currentRoom] and move[1] in rooms[currentRoom]['item']:\n",
        "      #add the item to their inventory\n",
        "      inventory += [move[1]]\n",
        "      #display a helpful message\n",
        "      print(move[1] + ' got!')\n",
        "      #delete the item from the room\n",
        "      del rooms[currentRoom]['item']\n",
        "    #otherwise, if the item isn't there to get\n",
        "    else:\n",
        "      #tell them they can't get it\n",
        "      print('Can\\'t get ' + move[1] + '!')\n",
        "    #if there is a monster the player dies\n",
        "  if 'item' in rooms [currentRoom] and 'monster' in rooms [currentRoom]['item']:\n",
        "     print('A monster got youu...GAME OVER!')\n",
        "     break\n",
        "   #if the player has key and potion and gets to the Garden he wins\n",
        "  if currentRoom == 'Garden' and 'key' in inventory and 'potion' in inventory:\n",
        "    print('You escaped the house.. You Win!')\n",
        "    break\n"
      ],
      "metadata": {
        "colab": {
          "base_uri": "https://localhost:8080/"
        },
        "id": "91IOcjMkozB3",
        "outputId": "7b4bb838-67ae-4569-c16d-b4304a4c3d97"
      },
      "execution_count": 12,
      "outputs": [
        {
          "output_type": "stream",
          "name": "stdout",
          "text": [
            "\n",
            "RPG Game\n",
            "\n",
            "Get to the Garden with key and potion\n",
            "========\n",
            "Commands:\n",
            "  go [direction]\n",
            "  get [item]\n",
            "\n",
            "---------------------------\n",
            "You are in the Hall\n",
            "Inventory : []\n",
            "You see a key\n",
            "---------------------------\n",
            ">go south\n",
            "A monster got youu...GAME OVER!\n"
          ]
        }
      ]
    }
  ]
}